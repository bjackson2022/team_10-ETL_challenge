{
 "cells": [
  {
   "cell_type": "code",
   "execution_count": null,
   "id": "36fd4372",
   "metadata": {},
   "outputs": [],
   "source": [
    "#Import Main Dependencies\n",
    "import pandas as pd\n",
    "from sqlalchemy import create_engine\n",
    "from unicodedata import normalize\n",
    "\n",
    "#Imported should you want to run any analyses\n",
    "import numpy as np\n",
    "import matplotlib.pyplot as plt"
   ]
  },
  {
   "cell_type": "code",
   "execution_count": null,
   "id": "bd3e5412",
   "metadata": {},
   "outputs": [],
   "source": [
    "#Read the IMDB_data file\n",
    "csv_file = \"movie_metadata.csv\"\n",
    "IMDB_data_df = pd.read_csv(csv_file)\n",
    "IMDB_data_df.head()"
   ]
  },
  {
   "cell_type": "code",
   "execution_count": null,
   "id": "5766af1c",
   "metadata": {},
   "outputs": [],
   "source": [
    "# Drop the unnecessary columns\n",
    "IMDB_data_df = IMDB_data_df.loc[:,['movie_title','actor_1_name','genres','budget','gross','country','title_year','imdb_score']]\n",
    "IMDB_data_df.head()"
   ]
  },
  {
   "cell_type": "code",
   "execution_count": null,
   "id": "237408be",
   "metadata": {},
   "outputs": [],
   "source": [
    "#Check for any null values\n",
    "IMDB_data_df.isnull().any()"
   ]
  },
  {
   "cell_type": "code",
   "execution_count": null,
   "id": "ff5fd7ab",
   "metadata": {},
   "outputs": [],
   "source": [
    "#drop NA's in the Budget and Gross columns\n",
    "IMDB_data_df.dropna(subset=['budget','gross'], inplace=True)"
   ]
  },
  {
   "cell_type": "code",
   "execution_count": null,
   "id": "46a1aeed",
   "metadata": {},
   "outputs": [],
   "source": [
    "#Rename the column to match with Streaming Dataframe columns\n",
    "IMDB_data_df.rename(columns={\"movie_title\": \"Title\"},inplace = True)\n",
    "\n",
    "#IMDB_data has Latin line breaks (special characters); Use normalize function to convert to regular form\n",
    "IMDB_data_df['Title']=IMDB_data_df['Title'].str.normalize('NFKD')\n",
    "\n",
    "#Strip any leading spaces in Title column\n",
    "IMDB_data_df['Title']=IMDB_data_df[\"Title\"].str.strip()\n",
    "\n",
    "#Drop the duplicate data\n",
    "IMDB_data_df.drop_duplicates()"
   ]
  },
  {
   "cell_type": "code",
   "execution_count": null,
   "id": "7d9fda0e",
   "metadata": {},
   "outputs": [],
   "source": [
    "#Read in the Streaming dataset\n",
    "csv_file = \"MoviesOnStreamingPlatforms.csv\"\n",
    "streaming_data_df = pd.read_csv(csv_file)\n",
    "streaming_data_df.head()"
   ]
  },
  {
   "cell_type": "code",
   "execution_count": null,
   "id": "a25e9ebd",
   "metadata": {},
   "outputs": [],
   "source": [
    "#Drop the unncessary columns\n",
    "streaming_data_df = streaming_data_df.loc[:,['Title','Rotten Tomatoes','Netflix','Hulu','Prime Video','Disney+']]\n",
    "streaming_data_df.head()"
   ]
  },
  {
   "cell_type": "code",
   "execution_count": null,
   "id": "e56d4066",
   "metadata": {},
   "outputs": [],
   "source": [
    "streaming_data_df.info()\n",
    "\n",
    "streaming_data_df"
   ]
  },
  {
   "cell_type": "code",
   "execution_count": null,
   "id": "cc856de5",
   "metadata": {},
   "outputs": [],
   "source": [
    "streaming_data_df.isnull().any()"
   ]
  },
  {
   "cell_type": "code",
   "execution_count": null,
   "id": "734b4793",
   "metadata": {},
   "outputs": [],
   "source": [
    "#Drop the NA's \n",
    "streaming_data_df.dropna(subset=['Rotten Tomatoes'], inplace=True)\n",
    "\n",
    "#Drop the duplicates\n",
    "streaming_data_df.drop_duplicates()"
   ]
  },
  {
   "cell_type": "code",
   "execution_count": null,
   "id": "42f9afc6",
   "metadata": {},
   "outputs": [],
   "source": [
    "#Convert fractions into decimals\n",
    "streaming_data_df['Rotten Tomatoes'] = streaming_data_df['Rotten Tomatoes'].str.split(\"/\").apply(lambda x: float(x[0]) / float(x[1]))\n",
    "streaming_data_df.head()"
   ]
  },
  {
   "cell_type": "code",
   "execution_count": null,
   "id": "1e194a92",
   "metadata": {},
   "outputs": [],
   "source": [
    "#Use InnerJoin on the datasets on the column 'Title' \n",
    "merge_df = pd.merge(IMDB_data_df, streaming_data_df, on=\"Title\",how='inner')\n",
    "merge_df"
   ]
  },
  {
   "cell_type": "code",
   "execution_count": null,
   "id": "ded1a074",
   "metadata": {},
   "outputs": [],
   "source": [
    "merge_df1=merge_df.copy()\n",
    "\n",
    "#Replace the values of the below 4 columns with its column name to identify the platform\n",
    "for i in merge_df1[['Netflix','Hulu','Prime Video','Disney+']].columns:\n",
    "    merge_df1[i].replace(1,i,inplace=True)\n",
    "    merge_df1[i].replace(0,'',inplace=True)\n",
    "\n",
    "#use function .apply() and .join() to join the 4 columns and assign to new column 'Streaming_Platform'\n",
    "merge_df1['Streaming_Platform'] = merge_df1[['Netflix','Hulu','Prime Video','Disney+']].apply(lambda x: ','.join(x.dropna().astype(str)),axis=1)\n",
    "merge_df1\n",
    "\n",
    "#use lstrip,rstrip,replace to remove the leading, trailing and extra comma's\n",
    "merge_df1['Streaming_Platform']= merge_df1['Streaming_Platform'].map(lambda x: x.lstrip(',').rstrip(','))\n",
    "merge_df1[\"Streaming_Platform\"]=merge_df1[\"Streaming_Platform\"].str.replace(\",,,\",\",\")\n",
    "merge_df1[\"Streaming_Platform\"]=merge_df1[\"Streaming_Platform\"].str.replace(\",,\",\",\")\n",
    "\n",
    "merge_df_final = merge_df1.loc[:,['Title','title_year','imdb_score','Rotten Tomatoes','actor_1_name','Streaming_Platform','budget','gross','country','genres']]\n",
    "\n",
    "#Sort the final dataset in descending order on imdb_score and 'Rotten_Tomatoes'\n",
    "merge_df_final=merge_df_final.sort_values(by = ['imdb_score','Rotten Tomatoes'], ascending = [False,False])"
   ]
  },
  {
   "cell_type": "code",
   "execution_count": null,
   "id": "9f88faa9",
   "metadata": {},
   "outputs": [],
   "source": [
    "merge_df_final"
   ]
  },
  {
   "cell_type": "code",
   "execution_count": null,
   "id": "a9552661",
   "metadata": {},
   "outputs": [],
   "source": [
    "#Create SQL Alchemy engine to postgres database \"IMDB_db\"\n",
    "protocol = 'postgresql'\n",
    "username = 'postgres'\n",
    "password = 'postgres'\n",
    "host = 'localhost'\n",
    "port = 5432\n",
    "database_name = 'IMDB_db'\n",
    "rds_connection_string = f'{protocol}://{username}:{password}@{host}:{port}/{database_name}'\n",
    "engine = create_engine(rds_connection_string)"
   ]
  },
  {
   "cell_type": "code",
   "execution_count": null,
   "id": "fee71bf7",
   "metadata": {},
   "outputs": [],
   "source": [
    "#show the existing table names in the database\n",
    "engine.table_names()"
   ]
  },
  {
   "cell_type": "code",
   "execution_count": null,
   "id": "badd0d83",
   "metadata": {},
   "outputs": [],
   "source": [
    "#write the data in the dataframe IMDB_data_df to the database table \"IMDB_data\"\n",
    "IMDB_data_df.to_sql(name='IMDB_data', con=engine, if_exists='replace', index=False)"
   ]
  },
  {
   "cell_type": "code",
   "execution_count": null,
   "id": "32032131",
   "metadata": {},
   "outputs": [],
   "source": [
    "#write the data in the dataframe streaming_data_df to the database table \"streaming_data\n",
    "streaming_data_df.to_sql(name='streaming_data', con=engine, if_exists='replace', index=False)"
   ]
  },
  {
   "cell_type": "code",
   "execution_count": null,
   "id": "a74ec92c",
   "metadata": {},
   "outputs": [],
   "source": [
    "#Query the IMDB_data table to confirm the above data load\n",
    "pd.read_sql_query('select * from public.\"IMDB_data\"', con=engine).head()"
   ]
  },
  {
   "cell_type": "code",
   "execution_count": null,
   "id": "566a480f",
   "metadata": {},
   "outputs": [],
   "source": [
    "#Query the streaming_data table to confirm the above data load\n",
    "pd.read_sql_query('select * from public.\"streaming_data\"', con=engine).head()"
   ]
  },
  {
   "cell_type": "code",
   "execution_count": null,
   "id": "f556938f",
   "metadata": {},
   "outputs": [],
   "source": [
    "#write the data in the dataframe merge_df_final to the database table \"IMDB_streaming_data\"\n",
    "merge_df_final.to_sql(name='IMDB_Streaming_data', con=engine, if_exists='replace', index=False)"
   ]
  },
  {
   "cell_type": "code",
   "execution_count": null,
   "id": "66305ee8",
   "metadata": {},
   "outputs": [],
   "source": [
    "#Query the IMDB_streaming_data table to confirm the above data load\n",
    "pd.read_sql_query('select * from public.\"IMDB_Streaming_data\"', con=engine)"
   ]
  },
  {
   "cell_type": "code",
   "execution_count": null,
   "id": "77a603bb",
   "metadata": {},
   "outputs": [],
   "source": []
  }
 ],
 "metadata": {
  "kernelspec": {
   "display_name": "PythonData",
   "language": "python",
   "name": "pythondata"
  },
  "language_info": {
   "codemirror_mode": {
    "name": "ipython",
    "version": 3
   },
   "file_extension": ".py",
   "mimetype": "text/x-python",
   "name": "python",
   "nbconvert_exporter": "python",
   "pygments_lexer": "ipython3",
   "version": "3.9.12"
  }
 },
 "nbformat": 4,
 "nbformat_minor": 5
}
